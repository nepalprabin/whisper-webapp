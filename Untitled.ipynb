{
 "cells": [
  {
   "cell_type": "code",
   "execution_count": 5,
   "id": "8dd089e0",
   "metadata": {},
   "outputs": [],
   "source": [
    "import glob\n",
    "import os"
   ]
  },
  {
   "cell_type": "code",
   "execution_count": 2,
   "id": "3ed068a7",
   "metadata": {},
   "outputs": [],
   "source": [
    "path = 'Stanford_Speech_to_Text_Dump/*'"
   ]
  },
  {
   "cell_type": "code",
   "execution_count": 3,
   "id": "ac418693",
   "metadata": {},
   "outputs": [
    {
     "data": {
      "text/plain": [
       "'Stanford_Speech_to_Text_Dump/Stanford CS224N NLP with Deep Learning ｜ Winter 2021 ｜ Lecture 16 - Social _ Ethical Considerations [-Ldg4qFL6bU].json'"
      ]
     },
     "execution_count": 3,
     "metadata": {},
     "output_type": "execute_result"
    }
   ],
   "source": [
    "all_files = glob.glob(path)\n",
    "all_files[0]"
   ]
  },
  {
   "cell_type": "code",
   "execution_count": 6,
   "id": "7907e08d",
   "metadata": {},
   "outputs": [],
   "source": [
    "for file in all_files:\n",
    "    file_name = os.path.basename(file)\n",
    "    os.rename(\"Stanford_Speech_to_Text_Dump/{}\".format(file_name), \"Stanford_Speech_to_Text_Dump/{}\".format(file_name.replace(' ', '_')))"
   ]
  },
  {
   "cell_type": "code",
   "execution_count": null,
   "id": "25ffe63e",
   "metadata": {},
   "outputs": [],
   "source": []
  }
 ],
 "metadata": {
  "kernelspec": {
   "display_name": "Python 3 (ipykernel)",
   "language": "python",
   "name": "python3"
  },
  "language_info": {
   "codemirror_mode": {
    "name": "ipython",
    "version": 3
   },
   "file_extension": ".py",
   "mimetype": "text/x-python",
   "name": "python",
   "nbconvert_exporter": "python",
   "pygments_lexer": "ipython3",
   "version": "3.8.11"
  }
 },
 "nbformat": 4,
 "nbformat_minor": 5
}
